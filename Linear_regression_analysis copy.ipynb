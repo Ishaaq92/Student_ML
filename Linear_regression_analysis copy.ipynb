{
 "cells": [
  {
   "cell_type": "code",
   "execution_count": 2,
   "metadata": {},
   "outputs": [],
   "source": [
    "import numpy as np\n",
    "import matplotlib.pyplot as plt\n",
    "import pandas as pd"
   ]
  },
  {
   "cell_type": "code",
   "execution_count": 3,
   "metadata": {},
   "outputs": [],
   "source": [
    "data = pd.read_csv(\"student-mat.csv\", delimiter=\";\")\n",
    "data = data.sample(frac=1, random_state=42).reset_index(drop=True)\n",
    "\n",
    "categorical_cols = data.select_dtypes(include=['object']).columns\n",
    "numerical_binary_cols = data.select_dtypes(exclude=['object']).columns\n",
    "\n",
    "df_categorical_dummies = pd.get_dummies(data[categorical_cols])\n",
    "df_final = pd.concat([data[numerical_binary_cols], df_categorical_dummies], axis=1)\n",
    "\n",
    "data = df_final"
   ]
  },
  {
   "cell_type": "code",
   "execution_count": 4,
   "metadata": {},
   "outputs": [],
   "source": [
    "m, n = data.shape\n",
    "# This is the training data.\n",
    "x_train = data[:int(0.6*m)]\n",
    "y_train = x_train[\"G3\"]\n",
    "\n",
    "# This is the testing data.\n",
    "x_test = data[int(0.6*m):int(0.8*m)]\n",
    "y_test = x_test[\"G3\"]\n",
    "\n",
    "# This is the cross validation data.\n",
    "x_cv = data[int(0.8*m):]\n",
    "y_cv = x_cv[\"G3\"]\n",
    "\n",
    "# Removing the answers from training & testing data.\n",
    "x_train = x_train.drop(columns=[\"G3\"])\n",
    "x_test = x_test.drop(columns=[\"G3\"])\n",
    "x_cv = x_cv.drop(columns=[\"G3\"])\n",
    "\n",
    "x_train_np = x_train.to_numpy()\n",
    "y_train_np = y_train.to_numpy()\n",
    "\n",
    "x_cv_np = x_cv.to_numpy()\n",
    "y_cv_np = y_cv.to_numpy()\n",
    "\n",
    "x_test_np = x_test.to_numpy()\n",
    "y_test_np = y_test.to_numpy()\n",
    "\n",
    "m, n = x_train_np.shape\n",
    "\n",
    "# Defining initial parameters\n",
    "W = np.full((n), 0.05)\n",
    "b = 1\n"
   ]
  },
  {
   "cell_type": "code",
   "execution_count": 5,
   "metadata": {},
   "outputs": [],
   "source": [
    "# Feature scaling\n",
    "# z = x - mu / sigma\n",
    "x_train_np = (x_train_np - np.mean(x_train_np, axis=0)) / np.std(x_train_np, axis=0)"
   ]
  },
  {
   "cell_type": "code",
   "execution_count": 6,
   "metadata": {},
   "outputs": [
    {
     "name": "stdout",
     "output_type": "stream",
     "text": [
      "Shape of data: (395, 59) \n",
      "\n",
      "Shape of training data: (237, 58)\n",
      "shape of training actual final grades: (237,) \n",
      "\n",
      "shape of Testing examples: (79, 58)\n",
      "shape of Testing examples final grades (79,) \n",
      "\n",
      "shape of Cross Validation examples: (79, 58)\n",
      "shape of Cross Validation examples final grades (79,)\n"
     ]
    }
   ],
   "source": [
    "print(\"Shape of data:\", data.shape,\"\\n\")\n",
    "\n",
    "print(\"Shape of training data:\", x_train.shape)\n",
    "print(\"shape of training actual final grades:\", y_train.shape, \"\\n\")\n",
    "\n",
    "print(\"shape of Testing examples:\", x_test.shape)\n",
    "print(\"shape of Testing examples final grades\", y_test.shape, \"\\n\")\n",
    "\n",
    "print(\"shape of Cross Validation examples:\", x_cv.shape)\n",
    "print(\"shape of Cross Validation examples final grades\", y_cv.shape)\n",
    "\n"
   ]
  },
  {
   "cell_type": "code",
   "execution_count": 7,
   "metadata": {},
   "outputs": [],
   "source": [
    "def f_wb(x, W, b):\n",
    "    if W.shape == x.shape:\n",
    "        return np.dot(W,x) + b\n",
    "    else:\n",
    "        return np.matmul(x,W) + b\n",
    "    \n"
   ]
  },
  {
   "cell_type": "code",
   "execution_count": 8,
   "metadata": {},
   "outputs": [
    {
     "data": {
      "text/plain": [
       "53.41612890953747"
      ]
     },
     "execution_count": 8,
     "metadata": {},
     "output_type": "execute_result"
    }
   ],
   "source": [
    "def cost_function(x, y, W, b):\n",
    "    #print(f_wb(x,W,b)- y)\n",
    "    m, n = x.shape\n",
    "    cost = np.sum((f_wb(x, W, b) - y)**2, axis=0)\n",
    "    return cost / (2*m)\n",
    "\n",
    "cost_function(x_train_np,y_train_np, W, b)\n"
   ]
  },
  {
   "cell_type": "code",
   "execution_count": 9,
   "metadata": {},
   "outputs": [
    {
     "name": "stdout",
     "output_type": "stream",
     "text": [
      "Iteration 0 the cost is: 50.10381\n"
     ]
    },
    {
     "name": "stdout",
     "output_type": "stream",
     "text": [
      "Iteration 500 the cost is: 5.38349\n",
      "Iteration 1000 the cost is: 5.17217\n",
      "Iteration 1500 the cost is: 5.07990\n",
      "Iteration 2000 the cost is: 5.02929\n",
      "Iteration 2500 the cost is: 5.00121\n",
      "Iteration 3000 the cost is: 4.98489\n",
      "Iteration 3500 the cost is: 4.97483\n",
      "Iteration 4000 the cost is: 4.96827\n",
      "Iteration 4500 the cost is: 4.96382\n",
      "Iteration 5000 the cost is: 4.96070\n",
      "Iteration 5500 the cost is: 4.95846\n",
      "Iteration 6000 the cost is: 4.95684\n"
     ]
    }
   ],
   "source": [
    "\n",
    "cost_history = []\n",
    "def gradient_descent(x,y,W,b):\n",
    "    learning_rate = 0.1\n",
    "    m,n = x.shape\n",
    "    \n",
    "    dJ_dW = 0\n",
    "    dJ_db = 0\n",
    "    for i in range(n):\n",
    "        dJ_dW += (f_wb(x[i],W,b) - y[i]) * x[i]\n",
    "        dJ_db += (f_wb(x[i],W,b) - y[i])\n",
    "    dJ_dW = dJ_dW / m\n",
    "    dJ_db = dJ_db / m\n",
    "\n",
    "    # dJ_dw = np.sum(f_wb(x,W,b)- y, axis=0) / m\n",
    "    # dJ_db = np.sum(f_wb(x,W,b)- y, axis=0) / m\n",
    "\n",
    "    W = W - learning_rate*dJ_dW\n",
    "    b = b - learning_rate*dJ_db\n",
    "\n",
    "    return W, b\n",
    "    \n",
    "for epochs in range(6001):\n",
    "    W, b = gradient_descent(x_train_np, y_train_np, W , b)\n",
    "    \n",
    "    cost = cost_function(x_train_np, y_train_np, W, b)\n",
    "    cost_history.append(cost)\n",
    "    if epochs % 500 == 0:\n",
    "\n",
    "        print(f\"Iteration {epochs} the cost is: {cost:.5f}\")\n",
    "        \n",
    "\n"
   ]
  },
  {
   "cell_type": "code",
   "execution_count": 10,
   "metadata": {},
   "outputs": [
    {
     "data": {
      "image/png": "[encoded data removed]",
      "text/plain": [
       "<Figure size 640x480 with 1 Axes>"
      ]
     },
     "metadata": {},
     "output_type": "display_data"
    }
   ],
   "source": [
    "plt.plot(cost_history)\n",
    "plt.xlabel('Iteration')\n",
    "plt.ylabel('Cost')\n",
    "plt.title('Cost Function Over Iterations')\n",
    "plt.show()"
   ]
  },
  {
   "cell_type": "code",
   "execution_count": 14,
   "metadata": {},
   "outputs": [
    {
     "name": "stdout",
     "output_type": "stream",
     "text": [
      "84\n",
      "18\n"
     ]
    }
   ],
   "source": [
    "def check_train(i):\n",
    "    print(f_wb(x_train_np[i], W, b))\n",
    "    print(y_train_np[i])\n",
    "\n",
    "\n",
    "def check_cv(i):\n",
    "    print(round(f_wb(x_cv_np[i], W, b)))\n",
    "    print(y_cv_np[i])\n",
    "\n",
    "\n",
    "check = 57\n",
    "\n",
    "#check_train(check)\n",
    "check_cv(check)"
   ]
  },
  {
   "cell_type": "code",
   "execution_count": 15,
   "metadata": {},
   "outputs": [
    {
     "name": "stdout",
     "output_type": "stream",
     "text": [
      "j_train is: 4.956840359641823\n",
      "j_cv is: 1161.6253990330088\n",
      "234.34795449352475\n"
     ]
    }
   ],
   "source": [
    "def costs():\n",
    "    j_train = cost_function(x_train_np, y_train_np, W, b)\n",
    "    j_cv = cost_function(x_cv_np, y_cv_np, W, b)\n",
    "    print(\"j_train is:\", j_train)\n",
    "    print(\"j_cv is:\", j_cv)\n",
    "    print(j_cv/j_train)\n",
    "\n",
    "costs()"
   ]
  },
  {
   "cell_type": "code",
   "execution_count": 13,
   "metadata": {},
   "outputs": [
    {
     "name": "stdout",
     "output_type": "stream",
     "text": [
      "(79, 58)\n",
      "(237, 58)\n"
     ]
    }
   ],
   "source": [
    "print(x_cv_np.shape)\n",
    "print(x_train_np.shape)"
   ]
  },
  {
   "cell_type": "code",
   "execution_count": null,
   "metadata": {},
   "outputs": [],
   "source": []
  }
 ],
 "metadata": {
  "kernelspec": {
   "display_name": "Python 3",
   "language": "python",
   "name": "python3"
  },
  "language_info": {
   "codemirror_mode": {
    "name": "ipython",
    "version": 3
   },
   "file_extension": ".py",
   "mimetype": "text/x-python",
   "name": "python",
   "nbconvert_exporter": "python",
   "pygments_lexer": "ipython3",
   "version": "3.11.2"
  }
 },
 "nbformat": 4,
 "nbformat_minor": 2
}
